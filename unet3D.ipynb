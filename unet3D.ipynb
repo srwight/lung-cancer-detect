{
  "nbformat": 4,
  "nbformat_minor": 0,
  "metadata": {
    "colab": {
      "name": "unet3D.ipynb",
      "provenance": [],
      "collapsed_sections": [],
      "authorship_tag": "ABX9TyN6E+kZlozj4IafGncKkUfq",
      "include_colab_link": true
    },
    "kernelspec": {
      "name": "python3",
      "display_name": "Python 3"
    },
    "accelerator": "GPU"
  },
  "cells": [
    {
      "cell_type": "markdown",
      "metadata": {
        "id": "view-in-github",
        "colab_type": "text"
      },
      "source": [
        "<a href=\"https://colab.research.google.com/github/kylestormcloud/lung-cancer-detect/blob/dev/unet3D.ipynb\" target=\"_parent\"><img src=\"https://colab.research.google.com/assets/colab-badge.svg\" alt=\"Open In Colab\"/></a>"
      ]
    },
    {
      "cell_type": "code",
      "metadata": {
        "id": "kOJaXmgMsEGy",
        "colab_type": "code",
        "outputId": "39f96c9b-6000-47e7-ec58-f643192430e5",
        "colab": {
          "base_uri": "https://localhost:8080/",
          "height": 182
        }
      },
      "source": [
        "!pip install keras"
      ],
      "execution_count": 0,
      "outputs": [
        {
          "output_type": "stream",
          "text": [
            "Requirement already satisfied: keras in /usr/local/lib/python3.6/dist-packages (2.2.5)\n",
            "Requirement already satisfied: pyyaml in /usr/local/lib/python3.6/dist-packages (from keras) (3.13)\n",
            "Requirement already satisfied: scipy>=0.14 in /usr/local/lib/python3.6/dist-packages (from keras) (1.4.1)\n",
            "Requirement already satisfied: keras-applications>=1.0.8 in /usr/local/lib/python3.6/dist-packages (from keras) (1.0.8)\n",
            "Requirement already satisfied: keras-preprocessing>=1.1.0 in /usr/local/lib/python3.6/dist-packages (from keras) (1.1.0)\n",
            "Requirement already satisfied: six>=1.9.0 in /usr/local/lib/python3.6/dist-packages (from keras) (1.12.0)\n",
            "Requirement already satisfied: numpy>=1.9.1 in /usr/local/lib/python3.6/dist-packages (from keras) (1.18.2)\n",
            "Requirement already satisfied: h5py in /usr/local/lib/python3.6/dist-packages (from keras) (2.8.0)\n"
          ],
          "name": "stdout"
        }
      ]
    },
    {
      "cell_type": "markdown",
      "metadata": {
        "id": "ZrLJ8eVvu7Jg",
        "colab_type": "text"
      },
      "source": [
        "# UNet\n",
        "\n",
        "##### Source: https://github.com/zhixuhao/unet/blob/master/model.py"
      ]
    },
    {
      "cell_type": "code",
      "metadata": {
        "id": "mRL0lzPzw1Ea",
        "colab_type": "code",
        "outputId": "403fc437-020a-45b0-9e7c-0b0980280178",
        "colab": {
          "base_uri": "https://localhost:8080/",
          "height": 100
        }
      },
      "source": [
        "import numpy as np \n",
        "import os\n",
        "import skimage.io as io\n",
        "import skimage.transform as trans\n",
        "import numpy as np\n",
        "from keras.models import *\n",
        "from keras.layers import *\n",
        "from keras.optimizers import *\n",
        "from keras.callbacks import ModelCheckpoint, LearningRateScheduler\n",
        "from keras import backend as keras"
      ],
      "execution_count": 0,
      "outputs": [
        {
          "output_type": "stream",
          "text": [
            "Using TensorFlow backend.\n"
          ],
          "name": "stderr"
        },
        {
          "output_type": "display_data",
          "data": {
            "text/html": [
              "<p style=\"color: red;\">\n",
              "The default version of TensorFlow in Colab will switch to TensorFlow 2.x on the 27th of March, 2020.<br>\n",
              "We recommend you <a href=\"https://www.tensorflow.org/guide/migrate\" target=\"_blank\">upgrade</a> now\n",
              "or ensure your notebook will continue to use TensorFlow 1.x via the <code>%tensorflow_version 1.x</code> magic:\n",
              "<a href=\"https://colab.research.google.com/notebooks/tensorflow_version.ipynb\" target=\"_blank\">more info</a>.</p>\n"
            ],
            "text/plain": [
              "<IPython.core.display.HTML object>"
            ]
          },
          "metadata": {
            "tags": []
          }
        }
      ]
    },
    {
      "cell_type": "code",
      "metadata": {
        "id": "KVRcRNVYCiUF",
        "colab_type": "code",
        "colab": {}
      },
      "source": [
        "def unet(pretrained_weights = None, input_size = (25, 64, 64, 1)):\n",
        "\n",
        "    # Input layer\n",
        "    inputs = Input(input_size)\n",
        "\n",
        "    # First CONV block\n",
        "    conv1 = Conv3D(64, 3, activation = 'relu', padding = 'same', kernel_initializer = 'he_normal')(inputs)\n",
        "    conv1 = Conv3D(64, 3, activation = 'relu', padding = 'same', kernel_initializer = 'he_normal')(conv1)\n",
        "    pool1 = MaxPooling3D(pool_size=(2, 2, 2))(conv1)\n",
        "\n",
        "    # Second conv block\n",
        "    conv2 = Conv3D(128, 3, activation = 'relu', padding = 'same', kernel_initializer = 'he_normal')(pool1)\n",
        "    conv2 = Conv3D(128, 3, activation = 'relu', padding = 'same', kernel_initializer = 'he_normal')(conv2)\n",
        "    pool2 = MaxPooling3D(pool_size=(2, 2, 2))(conv2)\n",
        "\n",
        "    # Third conv block\n",
        "    conv3 = Conv3D(256, 3, activation = 'relu', padding = 'same', kernel_initializer = 'he_normal')(pool2)\n",
        "    conv3 = Conv3D(256, 3, activation = 'relu', padding = 'same', kernel_initializer = 'he_normal')(conv3)\n",
        "    pool3 = MaxPooling3D(pool_size=(2, 2, 2))(conv3)\n",
        "    \n",
        "    # Fourth conv block\n",
        "    conv4 = Conv3D(512, 3, activation = 'relu', padding = 'same', kernel_initializer = 'he_normal')(pool3)\n",
        "    conv4 = Conv3D(512, 3, activation = 'relu', padding = 'same', kernel_initializer = 'he_normal')(conv4)\n",
        "    drop4 = Dropout(0.5)(conv4)\n",
        "    pool4 = MaxPooling3D(pool_size=(2, 2, 2))(drop4)\n",
        "\n",
        "    # Fifth conv block\n",
        "    conv5 = Conv3D(1024, 3, activation = 'relu', padding = 'same', kernel_initializer = 'he_normal')(pool4)\n",
        "    conv5 = Conv3D(1024, 3, activation = 'relu', padding = 'same', kernel_initializer = 'he_normal')(conv5)\n",
        "    drop5 = Dropout(0.5)(conv5)\n",
        "\n",
        "    # Sixth conv block\n",
        "    up6 = Conv3D(512, 2, activation = 'relu', padding = 'same', kernel_initializer = 'he_normal')(UpSampling3D(size = (2,2,2))(drop5))\n",
        "    merge6 = concatenate([drop4,up6], axis = 1)\n",
        "    conv6 = Conv3D(512, 3, activation = 'relu', padding = 'same', kernel_initializer = 'he_normal')(merge6)\n",
        "    conv6 = Conv3D(512, 3, activation = 'relu', padding = 'same', kernel_initializer = 'he_normal')(conv6)\n",
        "\n",
        "    # Seventh conv block\n",
        "    up7 = Conv3D(256, 2, activation = 'relu', padding = 'same', kernel_initializer = 'he_normal')(UpSampling3D(size = (2,2,2))(conv6))\n",
        "    merge7 = concatenate([conv3,up7], axis = 1)\n",
        "    conv7 = Conv3D(256, 3, activation = 'relu', padding = 'same', kernel_initializer = 'he_normal')(merge7)\n",
        "    conv7 = Conv3D(256, 3, activation = 'relu', padding = 'same', kernel_initializer = 'he_normal')(conv7)\n",
        "\n",
        "    # Eighth conv block\n",
        "    up8 = Conv3D(128, 2, activation = 'relu', padding = 'same', kernel_initializer = 'he_normal')(UpSampling3D(size = (2,2,2))(conv7))\n",
        "    merge8 = concatenate([conv2,up8], axis = 1)\n",
        "    conv8 = Conv3D(128, 3, activation = 'relu', padding = 'same', kernel_initializer = 'he_normal')(merge8)\n",
        "    conv8 = Conv3D(128, 3, activation = 'relu', padding = 'same', kernel_initializer = 'he_normal')(conv8)\n",
        "\n",
        "    # Nineth conv block\n",
        "    up9 = Conv3D(64, 2, activation = 'relu', padding = 'same', kernel_initializer = 'he_normal')(UpSampling3D(size = (2,2,2))(conv8))\n",
        "    merge9 = concatenate([conv1,up9], axis = 1)\n",
        "    conv9 = Conv3D(64, 3, activation = 'relu', padding = 'same', kernel_initializer = 'he_normal')(merge9)\n",
        "    conv9 = Conv3D(64, 3, activation = 'relu', padding = 'same', kernel_initializer = 'he_normal')(conv9)\n",
        "    conv9 = Conv3D(2, 3, activation = 'relu', padding = 'same', kernel_initializer = 'he_normal')(conv9)\n",
        "    \n",
        "    # Output layer\n",
        "    conv10 = Conv3D(1, 1, activation = 'sigmoid')(conv9)\n",
        "\n",
        "    # Initialize the model\n",
        "    model = Model(input = inputs, output = conv10)\n",
        "\n",
        "    # Build the model\n",
        "    model.compile(optimizer = Adam(lr = 1e-4), loss = 'binary_crossentropy', metrics = ['accuracy'])\n",
        "    \n",
        "    # Output the model summary\n",
        "    model.summary()\n",
        "\n",
        "    if(pretrained_weights):\n",
        "    \tmodel.load_weights(pretrained_weights)\n",
        "\n",
        "    return model"
      ],
      "execution_count": 0,
      "outputs": []
    },
    {
      "cell_type": "code",
      "metadata": {
        "id": "VYvffC3zzFpO",
        "colab_type": "code",
        "outputId": "b4529735-da77-434f-c5bd-deadae9f7176",
        "colab": {
          "base_uri": "https://localhost:8080/",
          "height": 1000
        }
      },
      "source": [
        "my_unet = unet()"
      ],
      "execution_count": 0,
      "outputs": [
        {
          "output_type": "stream",
          "text": [
            "WARNING:tensorflow:From /usr/local/lib/python3.6/dist-packages/keras/backend/tensorflow_backend.py:4432: The name tf.random_uniform is deprecated. Please use tf.random.uniform instead.\n",
            "\n",
            "WARNING:tensorflow:From /usr/local/lib/python3.6/dist-packages/keras/optimizers.py:793: The name tf.train.Optimizer is deprecated. Please use tf.compat.v1.train.Optimizer instead.\n",
            "\n",
            "WARNING:tensorflow:From /usr/local/lib/python3.6/dist-packages/keras/backend/tensorflow_backend.py:3657: The name tf.log is deprecated. Please use tf.math.log instead.\n",
            "\n",
            "WARNING:tensorflow:From /tensorflow-1.15.0/python3.6/tensorflow_core/python/ops/nn_impl.py:183: where (from tensorflow.python.ops.array_ops) is deprecated and will be removed in a future version.\n",
            "Instructions for updating:\n",
            "Use tf.where in 2.0, which has the same broadcast rule as np.where\n",
            "Model: \"model_1\"\n",
            "__________________________________________________________________________________________________\n",
            "Layer (type)                    Output Shape         Param #     Connected to                     \n",
            "==================================================================================================\n",
            "input_3 (InputLayer)            (None, 25, 64, 64, 1 0                                            \n",
            "__________________________________________________________________________________________________\n",
            "conv3d_23 (Conv3D)              (None, 25, 64, 64, 6 1792        input_3[0][0]                    \n",
            "__________________________________________________________________________________________________\n",
            "conv3d_24 (Conv3D)              (None, 25, 64, 64, 6 110656      conv3d_23[0][0]                  \n",
            "__________________________________________________________________________________________________\n",
            "max_pooling3d_9 (MaxPooling3D)  (None, 12, 32, 32, 6 0           conv3d_24[0][0]                  \n",
            "__________________________________________________________________________________________________\n",
            "conv3d_25 (Conv3D)              (None, 12, 32, 32, 1 221312      max_pooling3d_9[0][0]            \n",
            "__________________________________________________________________________________________________\n",
            "conv3d_26 (Conv3D)              (None, 12, 32, 32, 1 442496      conv3d_25[0][0]                  \n",
            "__________________________________________________________________________________________________\n",
            "max_pooling3d_10 (MaxPooling3D) (None, 6, 16, 16, 12 0           conv3d_26[0][0]                  \n",
            "__________________________________________________________________________________________________\n",
            "conv3d_27 (Conv3D)              (None, 6, 16, 16, 25 884992      max_pooling3d_10[0][0]           \n",
            "__________________________________________________________________________________________________\n",
            "conv3d_28 (Conv3D)              (None, 6, 16, 16, 25 1769728     conv3d_27[0][0]                  \n",
            "__________________________________________________________________________________________________\n",
            "max_pooling3d_11 (MaxPooling3D) (None, 3, 8, 8, 256) 0           conv3d_28[0][0]                  \n",
            "__________________________________________________________________________________________________\n",
            "conv3d_29 (Conv3D)              (None, 3, 8, 8, 512) 3539456     max_pooling3d_11[0][0]           \n",
            "__________________________________________________________________________________________________\n",
            "conv3d_30 (Conv3D)              (None, 3, 8, 8, 512) 7078400     conv3d_29[0][0]                  \n",
            "__________________________________________________________________________________________________\n",
            "dropout_5 (Dropout)             (None, 3, 8, 8, 512) 0           conv3d_30[0][0]                  \n",
            "__________________________________________________________________________________________________\n",
            "max_pooling3d_12 (MaxPooling3D) (None, 1, 4, 4, 512) 0           dropout_5[0][0]                  \n",
            "__________________________________________________________________________________________________\n",
            "conv3d_31 (Conv3D)              (None, 1, 4, 4, 1024 14156800    max_pooling3d_12[0][0]           \n",
            "__________________________________________________________________________________________________\n",
            "conv3d_32 (Conv3D)              (None, 1, 4, 4, 1024 28312576    conv3d_31[0][0]                  \n",
            "__________________________________________________________________________________________________\n",
            "dropout_6 (Dropout)             (None, 1, 4, 4, 1024 0           conv3d_32[0][0]                  \n",
            "__________________________________________________________________________________________________\n",
            "up_sampling3d_3 (UpSampling3D)  (None, 2, 8, 8, 1024 0           dropout_6[0][0]                  \n",
            "__________________________________________________________________________________________________\n",
            "conv3d_33 (Conv3D)              (None, 2, 8, 8, 512) 4194816     up_sampling3d_3[0][0]            \n",
            "__________________________________________________________________________________________________\n",
            "concatenate_3 (Concatenate)     (None, 5, 8, 8, 512) 0           dropout_5[0][0]                  \n",
            "                                                                 conv3d_33[0][0]                  \n",
            "__________________________________________________________________________________________________\n",
            "conv3d_34 (Conv3D)              (None, 5, 8, 8, 512) 7078400     concatenate_3[0][0]              \n",
            "__________________________________________________________________________________________________\n",
            "conv3d_35 (Conv3D)              (None, 5, 8, 8, 512) 7078400     conv3d_34[0][0]                  \n",
            "__________________________________________________________________________________________________\n",
            "up_sampling3d_4 (UpSampling3D)  (None, 10, 16, 16, 5 0           conv3d_35[0][0]                  \n",
            "__________________________________________________________________________________________________\n",
            "conv3d_36 (Conv3D)              (None, 10, 16, 16, 2 1048832     up_sampling3d_4[0][0]            \n",
            "__________________________________________________________________________________________________\n",
            "concatenate_4 (Concatenate)     (None, 16, 16, 16, 2 0           conv3d_28[0][0]                  \n",
            "                                                                 conv3d_36[0][0]                  \n",
            "__________________________________________________________________________________________________\n",
            "conv3d_37 (Conv3D)              (None, 16, 16, 16, 2 1769728     concatenate_4[0][0]              \n",
            "__________________________________________________________________________________________________\n",
            "conv3d_38 (Conv3D)              (None, 16, 16, 16, 2 1769728     conv3d_37[0][0]                  \n",
            "__________________________________________________________________________________________________\n",
            "up_sampling3d_5 (UpSampling3D)  (None, 32, 32, 32, 2 0           conv3d_38[0][0]                  \n",
            "__________________________________________________________________________________________________\n",
            "conv3d_39 (Conv3D)              (None, 32, 32, 32, 1 262272      up_sampling3d_5[0][0]            \n",
            "__________________________________________________________________________________________________\n",
            "concatenate_5 (Concatenate)     (None, 44, 32, 32, 1 0           conv3d_26[0][0]                  \n",
            "                                                                 conv3d_39[0][0]                  \n",
            "__________________________________________________________________________________________________\n",
            "conv3d_40 (Conv3D)              (None, 44, 32, 32, 1 442496      concatenate_5[0][0]              \n",
            "__________________________________________________________________________________________________\n",
            "conv3d_41 (Conv3D)              (None, 44, 32, 32, 1 442496      conv3d_40[0][0]                  \n",
            "__________________________________________________________________________________________________\n",
            "up_sampling3d_6 (UpSampling3D)  (None, 88, 64, 64, 1 0           conv3d_41[0][0]                  \n",
            "__________________________________________________________________________________________________\n",
            "conv3d_42 (Conv3D)              (None, 88, 64, 64, 6 65600       up_sampling3d_6[0][0]            \n",
            "__________________________________________________________________________________________________\n",
            "concatenate_6 (Concatenate)     (None, 113, 64, 64,  0           conv3d_24[0][0]                  \n",
            "                                                                 conv3d_42[0][0]                  \n",
            "__________________________________________________________________________________________________\n",
            "conv3d_43 (Conv3D)              (None, 113, 64, 64,  110656      concatenate_6[0][0]              \n",
            "__________________________________________________________________________________________________\n",
            "conv3d_44 (Conv3D)              (None, 113, 64, 64,  110656      conv3d_43[0][0]                  \n",
            "__________________________________________________________________________________________________\n",
            "conv3d_45 (Conv3D)              (None, 113, 64, 64,  3458        conv3d_44[0][0]                  \n",
            "__________________________________________________________________________________________________\n",
            "conv3d_46 (Conv3D)              (None, 113, 64, 64,  3           conv3d_45[0][0]                  \n",
            "==================================================================================================\n",
            "Total params: 80,895,749\n",
            "Trainable params: 80,895,749\n",
            "Non-trainable params: 0\n",
            "__________________________________________________________________________________________________\n"
          ],
          "name": "stdout"
        },
        {
          "output_type": "stream",
          "text": [
            "/usr/local/lib/python3.6/dist-packages/ipykernel_launcher.py:61: UserWarning: Update your `Model` call to the Keras 2 API: `Model(inputs=Tensor(\"in..., outputs=Tensor(\"co...)`\n"
          ],
          "name": "stderr"
        }
      ]
    }
  ]
}