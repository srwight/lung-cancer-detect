{
 "cells": [
  {
   "cell_type": "code",
   "execution_count": 1,
   "metadata": {},
   "outputs": [],
   "source": [
    "from utils.get_data import generate_data_nested_dirs, get_cube_at_point, generate_cubes, generate_cube_batch\n",
    "import numpy as np"
   ]
  },
  {
   "cell_type": "code",
   "execution_count": null,
   "metadata": {},
   "outputs": [],
   "source": [
    "def plot_one_scan(scan:np.array):\n",
    "    plt.figure(figsize=(32,128))\n",
    "    plt.gray()\n",
    "    plt.subplots_adjust(0,0,0.5,0.5,0.01,0.01)\n",
    "    for i in range(scan.shape[0]):\n",
    "        shape0 = scan.shape[0] // 4 + 1\n",
    "        plt.subplot(shape0, 4, i + 1)\n",
    "        plt.imshow(scan[i])\n",
    "        plt.axis('off')\n",
    "    plt.show()"
   ]
  },
  {
   "cell_type": "code",
   "execution_count": null,
   "metadata": {},
   "outputs": [],
   "source": [
    "def scan_images(scan:np.array, filename='scan_image', sep='_'):\n",
    "    for i in range(scan.shape[0]):\n",
    "        plt.gray()\n",
    "        plt.figure(figsize=(10,10))\n",
    "        plt.imshow(scan[i])\n",
    "        plt.axis('off')\n",
    "        plt.savefig(f'{filename}{sep}{i}.png', bbox_inches='tight', pad_inches=0, transparent=True)"
   ]
  },
  {
   "cell_type": "code",
   "execution_count": 2,
   "metadata": {},
   "outputs": [],
   "source": [
    "import pandas as pd\n",
    "\n",
    "df_annotations = pd.read_csv('CSVFILES/annotations.csv')"
   ]
  },
  {
   "cell_type": "code",
   "execution_count": null,
   "metadata": {},
   "outputs": [],
   "source": [
    "scans = generate_data_nested_dirs('./data')"
   ]
  },
  {
   "cell_type": "code",
   "execution_count": null,
   "metadata": {},
   "outputs": [],
   "source": [
    "cubes = generate_cubes(df_annotations, (64, 128, 128), root_dir='./data')"
   ]
  },
  {
   "cell_type": "code",
   "execution_count": null,
   "metadata": {},
   "outputs": [],
   "source": [
    "plot_one_scan(next(scans)[0])"
   ]
  },
  {
   "cell_type": "code",
   "execution_count": null,
   "metadata": {},
   "outputs": [],
   "source": [
    "# cube = next(cubes)\n",
    "# scan_images(cube[0], 'cube')\n",
    "# print(f'Tumor: {cube[1]}')\n",
    "# if cube[1]:\n",
    "#     print(f'Diameter: {cube[2]}')"
   ]
  },
  {
   "cell_type": "code",
   "execution_count": null,
   "metadata": {},
   "outputs": [],
   "source": [
    "from time import time\n",
    "start = time()\n",
    "falses = 0\n",
    "count = 0\n",
    "print('starting')\n",
    "itertime = time()\n",
    "for array, cancer in cubes:\n",
    "    count += 1\n",
    "    print (f'cube {count}')\n",
    "    if not cancer:\n",
    "        falses += 1\n",
    "        # plot_one_scan(array)\n",
    "    newtime = time()\n",
    "    print('Time between: ', newtime - itertime)\n",
    "    itertime = newtime\n",
    "stop = time()\n",
    "print(f'Completed in {stop-start} seconds.')"
   ]
  },
  {
   "cell_type": "code",
   "execution_count": 3,
   "metadata": {},
   "outputs": [],
   "source": [
    "from tensorflow.keras import Sequential, optimizers\n",
    "from tensorflow.keras.layers import Conv3D, MaxPooling3D, BatchNormalization, Flatten, Dense, Dropout, ReLU"
   ]
  },
  {
   "cell_type": "code",
   "execution_count": 4,
   "metadata": {},
   "outputs": [],
   "source": [
    "train_generator = generate_cube_batch(\n",
    "    locations = df_annotations,\n",
    "    target_size = (25,64,64),\n",
    "    root_dir = 'data/train',\n",
    "    batch_size = 16,\n",
    "    rotate=30,\n",
    "    axes=(0,1,2),\n",
    "    offset=0.25\n",
    ")\n",
    "\n",
    "test_generator = generate_cube_batch(\n",
    "    locations = df_annotations,\n",
    "    target_size = (25,64,64),\n",
    "    root_dir = 'data/test',\n",
    "    batch_size = 16\n",
    ")\n",
    "\n",
    "val_generator = generate_cube_batch(\n",
    "    locations = df_annotations,\n",
    "    target_size = (25,64,64),\n",
    "    root_dir = 'data/val',\n",
    "    batch_size = 16\n",
    ")"
   ]
  },
  {
   "cell_type": "code",
   "execution_count": 5,
   "metadata": {},
   "outputs": [
    {
     "name": "stdout",
     "output_type": "stream",
     "text": [
      "Model: \"sequential\"\n",
      "_________________________________________________________________\n",
      "Layer (type)                 Output Shape              Param #   \n",
      "=================================================================\n",
      "conv3d (Conv3D)              (None, 21, 60, 60, 32)    4032      \n",
      "_________________________________________________________________\n",
      "max_pooling3d (MaxPooling3D) (None, 10, 30, 30, 32)    0         \n",
      "_________________________________________________________________\n",
      "batch_normalization (BatchNo (None, 10, 30, 30, 32)    40        \n",
      "_________________________________________________________________\n",
      "re_lu (ReLU)                 (None, 10, 30, 30, 32)    0         \n",
      "_________________________________________________________________\n",
      "dropout (Dropout)            (None, 10, 30, 30, 32)    0         \n",
      "_________________________________________________________________\n",
      "flatten (Flatten)            (None, 288000)            0         \n",
      "_________________________________________________________________\n",
      "dense (Dense)                (None, 256)               73728256  \n",
      "_________________________________________________________________\n",
      "dense_1 (Dense)              (None, 32)                8224      \n",
      "_________________________________________________________________\n",
      "dense_2 (Dense)              (None, 1)                 33        \n",
      "=================================================================\n",
      "Total params: 73,740,585\n",
      "Trainable params: 73,740,565\n",
      "Non-trainable params: 20\n",
      "_________________________________________________________________\n"
     ]
    }
   ],
   "source": [
    "model = Sequential()\n",
    "model.add(Conv3D(\n",
    "        filters = 32,\n",
    "        kernel_size = (5,5,5),\n",
    "        strides = (1,1,1),\n",
    "        padding = 'valid',\n",
    "        activation = None,\n",
    "        use_bias = True,\n",
    "        kernel_initializer = 'glorot_uniform',\n",
    "        bias_initializer = 'zeros',\n",
    "        kernel_regularizer = None,\n",
    "        bias_regularizer = None,\n",
    "        activity_regularizer = None,\n",
    "        kernel_constraint = None,\n",
    "        bias_constraint = None,\n",
    "        input_shape = (25,64,64,1)))\n",
    "model.add(MaxPooling3D(\n",
    "        pool_size = (2,2,2),\n",
    "        strides = None,\n",
    "        padding = 'valid'))\n",
    "model.add(BatchNormalization(axis = 1))\n",
    "model.add(ReLU(negative_slope=0.001))\n",
    "model.add(Dropout(0.2))\n",
    "model.add(Flatten())\n",
    "model.add(Dense(\n",
    "        units = 256,\n",
    "        activation = 'relu',\n",
    "        use_bias = True,\n",
    "        kernel_initializer = 'glorot_uniform',\n",
    "        bias_initializer = 'zeros',\n",
    "        kernel_regularizer = None,\n",
    "        bias_regularizer = None,\n",
    "        activity_regularizer = None,\n",
    "        kernel_constraint = None,\n",
    "        bias_constraint = None))\n",
    "model.add(Dense(\n",
    "        units = 32,\n",
    "        activation = 'relu',\n",
    "        use_bias = True,\n",
    "        kernel_initializer = 'glorot_uniform',\n",
    "        bias_initializer = 'zeros',\n",
    "        kernel_regularizer = None,\n",
    "        bias_regularizer = None,\n",
    "        activity_regularizer = None,\n",
    "        kernel_constraint = None,\n",
    "        bias_constraint = None))\n",
    "model.add(Dense(\n",
    "        units = 1,\n",
    "        activation = 'sigmoid',\n",
    "        use_bias = True,\n",
    "        kernel_initializer = 'glorot_uniform',\n",
    "        bias_initializer = 'zeros',\n",
    "        kernel_regularizer = None,\n",
    "        bias_regularizer = None,\n",
    "        activity_regularizer = None,\n",
    "        kernel_constraint = None,\n",
    "        bias_constraint = None))\n",
    "model.summary()"
   ]
  },
  {
   "cell_type": "code",
   "execution_count": 6,
   "metadata": {},
   "outputs": [],
   "source": [
    "sgd = optimizers.SGD(\n",
    "    lr=0.01, \n",
    "    decay = 1e-5, \n",
    "    nesterov=False\n",
    ")\n",
    "\n",
    "model.compile(\n",
    "    optimizer=sgd,\n",
    "    loss='binary_crossentropy',\n",
    "    metrics=['accuracy']\n",
    ")"
   ]
  },
  {
   "cell_type": "code",
   "execution_count": null,
   "metadata": {},
   "outputs": [
    {
     "name": "stdout",
     "output_type": "stream",
     "text": [
      "WARNING:tensorflow:sample_weight modes were coerced from\n",
      "  ...\n",
      "    to  \n",
      "  ['...']\n",
      "WARNING:tensorflow:sample_weight modes were coerced from\n",
      "  ...\n",
      "    to  \n",
      "  ['...']\n",
      "Train for 75 steps, validate for 25 steps\n",
      "Epoch 1/2\n",
      "74/75 [============================>.] - ETA: 14s - loss: 1.2462 - accuracy: 0.7838"
     ]
    }
   ],
   "source": [
    "model.fit(\n",
    "    x = train_generator,\n",
    "    validation_data = val_generator,\n",
    "    validation_steps = 25,\n",
    "    epochs = 2,\n",
    "    shuffle=True,\n",
    "    steps_per_epoch = 75\n",
    ")"
   ]
  },
  {
   "cell_type": "code",
   "execution_count": null,
   "metadata": {},
   "outputs": [],
   "source": [
    "model.save('first_model.h5')"
   ]
  },
  {
   "cell_type": "code",
   "execution_count": null,
   "metadata": {},
   "outputs": [],
   "source": []
  }
 ],
 "metadata": {
  "kernelspec": {
   "display_name": "venv",
   "language": "python",
   "name": "venv"
  },
  "language_info": {
   "codemirror_mode": {
    "name": "ipython",
    "version": 3
   },
   "file_extension": ".py",
   "mimetype": "text/x-python",
   "name": "python",
   "nbconvert_exporter": "python",
   "pygments_lexer": "ipython3",
   "version": "3.7.7"
  }
 },
 "nbformat": 4,
 "nbformat_minor": 4
}
