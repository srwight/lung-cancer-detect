{
 "cells": [
  {
   "cell_type": "code",
   "execution_count": 1,
   "metadata": {},
   "outputs": [],
   "source": [
    "from utils.get_data import generate_data_nested_dirs, get_cube_at_point, generate_cubes, generate_cube_batch\n",
    "import numpy as np"
   ]
  },
  {
   "cell_type": "code",
   "execution_count": 2,
   "metadata": {},
   "outputs": [],
   "source": [
    "import pandas as pd\n",
    "\n",
    "df_annotations = pd.read_csv('CSVFILES/annotations.csv')"
   ]
  },
  {
   "cell_type": "code",
   "execution_count": 3,
   "metadata": {},
   "outputs": [],
   "source": [
    "from tensorflow.keras import Sequential, optimizers\n",
    "from tensorflow.keras.layers import Conv3D, MaxPooling3D, BatchNormalization, Flatten, Dense, Dropout, ReLU"
   ]
  },
  {
   "cell_type": "code",
   "execution_count": 4,
   "metadata": {},
   "outputs": [
    {
     "name": "stdout",
     "output_type": "stream",
     "text": [
      "Model: \"sequential\"\n",
      "_________________________________________________________________\n",
      "Layer (type)                 Output Shape              Param #   \n",
      "=================================================================\n",
      "conv3d (Conv3D)              (None, 11, 50, 50, 64)    216064    \n",
      "_________________________________________________________________\n",
      "max_pooling3d (MaxPooling3D) (None, 5, 25, 25, 64)     0         \n",
      "_________________________________________________________________\n",
      "batch_normalization (BatchNo (None, 5, 25, 25, 64)     20        \n",
      "_________________________________________________________________\n",
      "dropout (Dropout)            (None, 5, 25, 25, 64)     0         \n",
      "_________________________________________________________________\n",
      "flatten (Flatten)            (None, 200000)            0         \n",
      "_________________________________________________________________\n",
      "dense (Dense)                (None, 32)                6400032   \n",
      "_________________________________________________________________\n",
      "dense_1 (Dense)              (None, 2)                 66        \n",
      "=================================================================\n",
      "Total params: 6,616,182\n",
      "Trainable params: 6,616,172\n",
      "Non-trainable params: 10\n",
      "_________________________________________________________________\n"
     ]
    }
   ],
   "source": [
    "model = Sequential()\n",
    "model.add(Conv3D(\n",
    "        filters = 64,\n",
    "        kernel_size = (15,15,15),\n",
    "        strides = (1,1,1),\n",
    "        padding = 'valid',\n",
    "        activation = 'relu',\n",
    "        use_bias = True,\n",
    "        kernel_initializer = 'glorot_uniform',\n",
    "        bias_initializer = 'zeros',\n",
    "        kernel_regularizer = None,\n",
    "        bias_regularizer = None,\n",
    "        activity_regularizer = None,\n",
    "        kernel_constraint = None,\n",
    "        bias_constraint = None,\n",
    "        input_shape = (25,64,64,1)))\n",
    "model.add(MaxPooling3D(\n",
    "        pool_size = (2,2,2),\n",
    "        strides = None,\n",
    "        padding = 'valid'))\n",
    "model.add(BatchNormalization(axis = 1))\n",
    "model.add(Dropout(0.2))\n",
    "model.add(Flatten(input_shape=(25,64,64,1)))\n",
    "# model.add(Dense(\n",
    "#         units = 256,\n",
    "#         activation = 'relu',\n",
    "#         use_bias = True,\n",
    "#         kernel_initializer = 'glorot_uniform',\n",
    "#         bias_initializer = 'zeros',\n",
    "#         kernel_regularizer = None,\n",
    "#         bias_regularizer = None,\n",
    "#         activity_regularizer = None,\n",
    "#         kernel_constraint = None,\n",
    "#         bias_constraint = None))\n",
    "model.add(Dense(\n",
    "        units = 32,\n",
    "        activation = 'relu',\n",
    "        use_bias = True,\n",
    "        kernel_initializer = 'glorot_uniform',\n",
    "        bias_initializer = 'zeros',\n",
    "        kernel_regularizer = None,\n",
    "        bias_regularizer = None,\n",
    "        activity_regularizer = None,\n",
    "        kernel_constraint = None,\n",
    "        bias_constraint = None))\n",
    "model.add(Dense(\n",
    "        units = 2,\n",
    "        activation = 'softmax',\n",
    "        use_bias = True,\n",
    "        kernel_initializer = 'glorot_uniform',\n",
    "        bias_initializer = 'zeros',\n",
    "        kernel_regularizer = None,\n",
    "        bias_regularizer = None,\n",
    "        activity_regularizer = None,\n",
    "        kernel_constraint = None,\n",
    "        bias_constraint = None))\n",
    "model.summary()"
   ]
  },
  {
   "cell_type": "code",
   "execution_count": 5,
   "metadata": {},
   "outputs": [],
   "source": [
    "sgd = optimizers.SGD(\n",
    "    lr=0.01, \n",
    "    decay = 1e-3, \n",
    "    nesterov=False\n",
    ")\n",
    "\n",
    "model.compile(\n",
    "    optimizer=sgd,\n",
    "    loss='categorical_crossentropy',\n",
    "    metrics=['accuracy']\n",
    ")"
   ]
  },
  {
   "cell_type": "code",
   "execution_count": 6,
   "metadata": {},
   "outputs": [
    {
     "name": "stdout",
     "output_type": "stream",
     "text": [
      "WARNING:tensorflow:sample_weight modes were coerced from\n",
      "  ...\n",
      "    to  \n",
      "  ['...']\n",
      "WARNING:tensorflow:sample_weight modes were coerced from\n",
      "  ...\n",
      "    to  \n",
      "  ['...']\n",
      "Train for 75 steps, validate for 25 steps\n",
      "Epoch 1/2\n",
      "75/75 [==============================] - 1776s 24s/step - loss: 2.9713 - accuracy: 0.6683 - val_loss: 0.6857 - val_accuracy: 0.5225\n",
      "Epoch 2/2\n",
      "75/75 [==============================] - 1810s 24s/step - loss: 0.4789 - accuracy: 0.8342 - val_loss: 0.6596 - val_accuracy: 0.6000\n"
     ]
    },
    {
     "data": {
      "text/plain": [
       "<tensorflow.python.keras.callbacks.History at 0x7f36643fe790>"
      ]
     },
     "execution_count": 6,
     "metadata": {},
     "output_type": "execute_result"
    }
   ],
   "source": [
    "train_generator = generate_cube_batch(\n",
    "    locations = df_annotations,\n",
    "    target_size = (25,64,64),\n",
    "    root_dir = 'data/train',\n",
    "    batch_size = 16,\n",
    "    rotate=30,\n",
    "    axes=(0,1,2),\n",
    "    offset=0.25\n",
    ")\n",
    "\n",
    "test_generator = generate_cube_batch(\n",
    "    locations = df_annotations,\n",
    "    target_size = (25,64,64),\n",
    "    root_dir = 'data/test',\n",
    "    batch_size = 16\n",
    ")\n",
    "\n",
    "val_generator = generate_cube_batch(\n",
    "    locations = df_annotations,\n",
    "    target_size = (25,64,64),\n",
    "    root_dir = 'data/val',\n",
    "    batch_size = 16\n",
    ")\n",
    "\n",
    "model.fit(\n",
    "    x = train_generator,\n",
    "    validation_data = val_generator,\n",
    "    validation_steps = 25,\n",
    "    epochs = 2,\n",
    "    shuffle=True,\n",
    "    steps_per_epoch = 75\n",
    ")"
   ]
  },
  {
   "cell_type": "code",
   "execution_count": null,
   "metadata": {},
   "outputs": [],
   "source": [
    "model.save('first_model.h5')"
   ]
  },
  {
   "cell_type": "code",
   "execution_count": null,
   "metadata": {},
   "outputs": [],
   "source": [
    "y_pred = model.predict(train_generator, steps = 25)"
   ]
  },
  {
   "cell_type": "code",
   "execution_count": null,
   "metadata": {},
   "outputs": [],
   "source": [
    "y_pred = np.argmax(y_pred, axis=1)"
   ]
  },
  {
   "cell_type": "code",
   "execution_count": null,
   "metadata": {},
   "outputs": [],
   "source": [
    "from sklearn.metrics import confusion_matrix"
   ]
  },
  {
   "cell_type": "code",
   "execution_count": null,
   "metadata": {},
   "outputs": [],
   "source": [
    "test_generator = generate_cube_batch(\n",
    "    locations = df_annotations,\n",
    "    target_size = (25,64,64),\n",
    "    root_dir = 'data/train',\n",
    "    batch_size = 16\n",
    ")\n",
    "\n",
    "y = np.zeros((1,2))\n",
    "for i in range(25):\n",
    "    x, batch = next(test_generator)\n",
    "    if not y.any():\n",
    "        y = np.argmax(batch, axis=1)\n",
    "        continue\n",
    "    y = np.concatenate((y, np.argmax(batch, axis=1)))"
   ]
  },
  {
   "cell_type": "code",
   "execution_count": null,
   "metadata": {},
   "outputs": [],
   "source": [
    "y_pred"
   ]
  },
  {
   "cell_type": "code",
   "execution_count": null,
   "metadata": {},
   "outputs": [],
   "source": [
    "confusion_matrix(y,y_pred)"
   ]
  },
  {
   "cell_type": "code",
   "execution_count": null,
   "metadata": {},
   "outputs": [],
   "source": []
  }
 ],
 "metadata": {
  "kernelspec": {
   "display_name": "venv",
   "language": "python",
   "name": "venv"
  },
  "language_info": {
   "codemirror_mode": {
    "name": "ipython",
    "version": 3
   },
   "file_extension": ".py",
   "mimetype": "text/x-python",
   "name": "python",
   "nbconvert_exporter": "python",
   "pygments_lexer": "ipython3",
   "version": "3.7.7"
  }
 },
 "nbformat": 4,
 "nbformat_minor": 4
}
