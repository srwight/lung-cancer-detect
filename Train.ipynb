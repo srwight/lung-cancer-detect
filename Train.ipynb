{
 "cells": [
  {
   "cell_type": "code",
   "execution_count": 1,
   "metadata": {},
   "outputs": [],
   "source": [
    "from utils.get_data import generate_data_nested_dirs, get_cube_at_point, generate_cubes, generate_cube_batch\n",
    "import numpy as np"
   ]
  },
  {
   "cell_type": "code",
   "execution_count": 2,
   "metadata": {},
   "outputs": [],
   "source": [
    "import pandas as pd\n",
    "\n",
    "df_annotations = pd.read_csv('CSVFILES/annotations.csv')"
   ]
  },
  {
   "cell_type": "code",
   "execution_count": 3,
   "metadata": {},
   "outputs": [],
   "source": [
    "from tensorflow.keras import Sequential, optimizers\n",
    "from tensorflow.keras.layers import Conv3D, MaxPooling3D, BatchNormalization, Flatten, Dense, Dropout, ReLU"
   ]
  },
  {
   "cell_type": "code",
   "execution_count": 52,
   "metadata": {},
   "outputs": [],
   "source": [
    "train_generator = generate_cube_batch(\n",
    "    locations = df_annotations,\n",
    "    target_size = (25,64,64),\n",
    "    root_dir = 'data/train',\n",
    "    batch_size = 16,\n",
    "    rotate=30,\n",
    "    axes=(0,1,2),\n",
    "    offset=0.25\n",
    ")\n",
    "\n",
    "test_generator = generate_cube_batch(\n",
    "    locations = df_annotations,\n",
    "    target_size = (25,64,64),\n",
    "    root_dir = 'data/test',\n",
    "    batch_size = 16\n",
    ")\n",
    "\n",
    "val_generator = generate_cube_batch(\n",
    "    locations = df_annotations,\n",
    "    target_size = (25,64,64),\n",
    "    root_dir = 'data/val',\n",
    "    batch_size = 16\n",
    ")"
   ]
  },
  {
   "cell_type": "code",
   "execution_count": 54,
   "metadata": {},
   "outputs": [
    {
     "name": "stdout",
     "output_type": "stream",
     "text": [
      "Model: \"sequential_1\"\n",
      "_________________________________________________________________\n",
      "Layer (type)                 Output Shape              Param #   \n",
      "=================================================================\n",
      "flatten_1 (Flatten)          (None, 102400)            0         \n",
      "_________________________________________________________________\n",
      "dense_2 (Dense)              (None, 32)                3276832   \n",
      "_________________________________________________________________\n",
      "dense_3 (Dense)              (None, 2)                 66        \n",
      "=================================================================\n",
      "Total params: 3,276,898\n",
      "Trainable params: 3,276,898\n",
      "Non-trainable params: 0\n",
      "_________________________________________________________________\n"
     ]
    }
   ],
   "source": [
    "model = Sequential()\n",
    "# model.add(Conv3D(\n",
    "#         filters = 32,\n",
    "#         kernel_size = (5,5,5),\n",
    "#         strides = (1,1,1),\n",
    "#         padding = 'valid',\n",
    "#         activation = 'relu',\n",
    "#         use_bias = True,\n",
    "#         kernel_initializer = 'glorot_uniform',\n",
    "#         bias_initializer = 'zeros',\n",
    "#         kernel_regularizer = None,\n",
    "#         bias_regularizer = None,\n",
    "#         activity_regularizer = None,\n",
    "#         kernel_constraint = None,\n",
    "#         bias_constraint = None,\n",
    "#         input_shape = (25,64,64,1)))\n",
    "# model.add(MaxPooling3D(\n",
    "#         pool_size = (2,2,2),\n",
    "#         strides = None,\n",
    "#         padding = 'valid'))\n",
    "# model.add(BatchNormalization(axis = 1))\n",
    "# model.add(Dropout(0.2))\n",
    "model.add(Flatten(input_shape=(25,64,64,1)))\n",
    "# model.add(Dense(\n",
    "#         units = 256,\n",
    "#         activation = 'relu',\n",
    "#         use_bias = True,\n",
    "#         kernel_initializer = 'glorot_uniform',\n",
    "#         bias_initializer = 'zeros',\n",
    "#         kernel_regularizer = None,\n",
    "#         bias_regularizer = None,\n",
    "#         activity_regularizer = None,\n",
    "#         kernel_constraint = None,\n",
    "#         bias_constraint = None))\n",
    "model.add(Dense(\n",
    "        units = 32,\n",
    "        activation = 'relu',\n",
    "        use_bias = True,\n",
    "        kernel_initializer = 'glorot_uniform',\n",
    "        bias_initializer = 'zeros',\n",
    "        kernel_regularizer = None,\n",
    "        bias_regularizer = None,\n",
    "        activity_regularizer = None,\n",
    "        kernel_constraint = None,\n",
    "        bias_constraint = None))\n",
    "model.add(Dense(\n",
    "        units = 2,\n",
    "        activation = 'softmax',\n",
    "        use_bias = True,\n",
    "        kernel_initializer = 'glorot_uniform',\n",
    "        bias_initializer = 'zeros',\n",
    "        kernel_regularizer = None,\n",
    "        bias_regularizer = None,\n",
    "        activity_regularizer = None,\n",
    "        kernel_constraint = None,\n",
    "        bias_constraint = None))\n",
    "model.summary()"
   ]
  },
  {
   "cell_type": "code",
   "execution_count": 55,
   "metadata": {},
   "outputs": [],
   "source": [
    "sgd = optimizers.SGD(\n",
    "    lr=0.0001, \n",
    "    decay = 1e-4, \n",
    "    nesterov=False\n",
    ")\n",
    "\n",
    "model.compile(\n",
    "    optimizer=sgd,\n",
    "    loss='categorical_crossentropy',\n",
    "    metrics=['accuracy']\n",
    ")"
   ]
  },
  {
   "cell_type": "code",
   "execution_count": null,
   "metadata": {},
   "outputs": [
    {
     "name": "stdout",
     "output_type": "stream",
     "text": [
      "WARNING:tensorflow:sample_weight modes were coerced from\n",
      "  ...\n",
      "    to  \n",
      "  ['...']\n",
      "WARNING:tensorflow:sample_weight modes were coerced from\n",
      "  ...\n",
      "    to  \n",
      "  ['...']\n",
      "Train for 75 steps, validate for 25 steps\n",
      "Epoch 1/2\n",
      "75/75 [==============================] - 1205s 16s/step - loss: 232521.1927 - accuracy: 0.6167 - val_loss: 75610.3816 - val_accuracy: 0.6175\n",
      "Epoch 2/2\n",
      "74/75 [============================>.] - ETA: 11s - loss: 50710.8685 - accuracy: 0.6546"
     ]
    }
   ],
   "source": [
    "model.fit(\n",
    "    x = train_generator,\n",
    "    validation_data = val_generator,\n",
    "    validation_steps = 25,\n",
    "    epochs = 2,\n",
    "    shuffle=True,\n",
    "    steps_per_epoch = 75\n",
    ")"
   ]
  },
  {
   "cell_type": "code",
   "execution_count": null,
   "metadata": {},
   "outputs": [],
   "source": [
    "model.save('first_model.h5')"
   ]
  },
  {
   "cell_type": "code",
   "execution_count": 48,
   "metadata": {},
   "outputs": [],
   "source": [
    "y_pred = model.predict(train_generator, steps = 25)"
   ]
  },
  {
   "cell_type": "code",
   "execution_count": 49,
   "metadata": {},
   "outputs": [],
   "source": [
    "y_pred = np.argmax(y_pred, axis=1)"
   ]
  },
  {
   "cell_type": "code",
   "execution_count": 11,
   "metadata": {},
   "outputs": [],
   "source": [
    "from sklearn.metrics import confusion_matrix"
   ]
  },
  {
   "cell_type": "code",
   "execution_count": 50,
   "metadata": {},
   "outputs": [],
   "source": [
    "test_generator = generate_cube_batch(\n",
    "    locations = df_annotations,\n",
    "    target_size = (25,64,64),\n",
    "    root_dir = 'data/train',\n",
    "    batch_size = 16\n",
    ")\n",
    "\n",
    "y = np.zeros((1,2))\n",
    "for i in range(25):\n",
    "    x, batch = next(test_generator)\n",
    "    if not y.any():\n",
    "        y = np.argmax(batch, axis=1)\n",
    "        continue\n",
    "    y = np.concatenate((y, np.argmax(batch, axis=1)))"
   ]
  },
  {
   "cell_type": "code",
   "execution_count": 45,
   "metadata": {},
   "outputs": [
    {
     "data": {
      "text/plain": [
       "array([0, 0, 0, 0, 0, 0, 0, 0, 0, 0, 0, 0, 0, 0, 0, 0, 0, 0, 0, 0, 0, 0,\n",
       "       0, 0, 0, 0, 0, 0, 0, 0, 0, 0, 0, 0, 0, 0, 0, 0, 0, 0, 0, 0, 0, 0,\n",
       "       0, 0, 0, 0, 0, 0, 0, 0, 0, 0, 0, 0, 0, 0, 0, 0, 0, 0, 0, 0, 0, 0,\n",
       "       0, 0, 0, 0, 0, 0, 0, 0, 0, 0, 0, 0, 0, 0, 0, 0, 0, 0, 0, 0, 0, 0,\n",
       "       0, 0, 0, 0, 0, 0, 0, 0, 0, 0, 0, 0, 0, 0, 0, 0, 0, 0, 0, 0, 0, 0,\n",
       "       0, 0, 0, 0, 0, 0, 0, 0, 0, 0, 0, 0, 0, 0, 0, 0, 0, 0, 0, 0, 0, 0,\n",
       "       0, 0, 0, 0, 0, 0, 0, 0, 0, 0, 0, 0, 0, 0, 0, 0, 0, 0, 0, 0, 0, 0,\n",
       "       0, 0, 0, 0, 0, 0, 0, 0, 0, 0, 0, 0, 0, 0, 0, 0, 0, 0, 0, 0, 0, 0,\n",
       "       0, 0, 0, 0, 0, 0, 0, 0, 0, 0, 0, 0, 0, 0, 0, 0, 0, 0, 0, 0, 0, 0,\n",
       "       0, 0, 0, 0, 0, 0, 0, 0, 0, 0, 0, 0, 0, 0, 0, 0, 0, 0, 0, 0, 0, 0,\n",
       "       0, 0, 0, 0, 0, 0, 0, 0, 0, 0, 0, 0, 0, 0, 0, 0, 0, 0, 0, 0, 0, 0,\n",
       "       0, 0, 0, 0, 0, 0, 0, 0, 0, 0, 0, 0, 0, 0, 0, 0, 0, 0, 0, 0, 0, 0,\n",
       "       0, 0, 0, 0, 0, 0, 0, 0, 0, 0, 0, 0, 0, 0, 0, 0, 0, 0, 0, 0, 0, 0,\n",
       "       0, 0, 0, 0, 0, 0, 0, 0, 0, 0, 0, 0, 0, 0, 0, 0, 0, 0, 0, 0, 0, 0,\n",
       "       0, 0, 0, 0, 0, 0, 0, 0, 0, 0, 0, 0, 0, 0, 0, 0, 0, 0, 0, 0, 0, 0,\n",
       "       0, 0, 0, 0, 0, 0, 0, 0, 0, 0, 0, 0, 0, 0, 0, 0, 0, 0, 0, 0, 0, 0,\n",
       "       0, 0, 0, 0, 0, 0, 0, 0, 0, 0, 0, 0, 0, 0, 0, 0, 0, 0, 0, 0, 0, 0,\n",
       "       0, 0, 0, 0, 0, 0, 0, 0, 0, 0, 0, 0, 0, 0, 0, 0, 0, 0, 0, 0, 0, 0,\n",
       "       0, 0, 0, 0])"
      ]
     },
     "execution_count": 45,
     "metadata": {},
     "output_type": "execute_result"
    }
   ],
   "source": [
    "y_pred"
   ]
  },
  {
   "cell_type": "code",
   "execution_count": 51,
   "metadata": {},
   "outputs": [
    {
     "data": {
      "text/plain": [
       "array([[195,   1],\n",
       "       [  4, 200]])"
      ]
     },
     "execution_count": 51,
     "metadata": {},
     "output_type": "execute_result"
    }
   ],
   "source": [
    "confusion_matrix(y,y_pred)"
   ]
  },
  {
   "cell_type": "code",
   "execution_count": null,
   "metadata": {},
   "outputs": [],
   "source": []
  }
 ],
 "metadata": {
  "kernelspec": {
   "display_name": "venv",
   "language": "python",
   "name": "venv"
  },
  "language_info": {
   "codemirror_mode": {
    "name": "ipython",
    "version": 3
   },
   "file_extension": ".py",
   "mimetype": "text/x-python",
   "name": "python",
   "nbconvert_exporter": "python",
   "pygments_lexer": "ipython3",
   "version": "3.7.7"
  }
 },
 "nbformat": 4,
 "nbformat_minor": 4
}
