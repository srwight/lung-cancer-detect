{
 "cells": [
  {
   "cell_type": "code",
   "execution_count": 1,
   "metadata": {},
   "outputs": [],
   "source": [
    "from utils.get_data import generate_data_nested_dirs, get_cube_at_point, generate_cubes, generate_cube_batch, nested_dirs\n",
    "import numpy as np\n",
    "import matplotlib.pylab as plt\n",
    "from SimpleITK import ReadImage, GetArrayFromImage, sitkFloat32\n",
    "from random import shuffle\n",
    "import os"
   ]
  },
  {
   "cell_type": "code",
   "execution_count": 2,
   "metadata": {},
   "outputs": [],
   "source": [
    "import pandas as pd\n",
    "\n",
    "df_annotations = pd.read_csv('CSVFILES/annotations.csv')"
   ]
  },
  {
   "cell_type": "code",
   "execution_count": null,
   "metadata": {},
   "outputs": [],
   "source": [
    "def plot_one_scan(scan:np.array):\n",
    "    plt.figure(figsize=(32,128))\n",
    "    plt.gray()\n",
    "    plt.subplots_adjust(0,0,0.5,0.5,0.01,0.01)\n",
    "    for i in range(scan.shape[0]):\n",
    "        shape0 = scan.shape[0] // 4 + 1\n",
    "        plt.subplot(shape0, 4, i + 1)\n",
    "        plt.imshow(scan[i])\n",
    "        plt.axis('off')\n",
    "    plt.show()"
   ]
  },
  {
   "cell_type": "code",
   "execution_count": null,
   "metadata": {},
   "outputs": [],
   "source": [
    "scans = generate_data_nested_dirs('./data')\n",
    "scan = next(scans)[0]\n",
    "plot_one_scan(scan)"
   ]
  },
  {
   "cell_type": "code",
   "execution_count": null,
   "metadata": {},
   "outputs": [],
   "source": [
    "def scan_images(scan:np.array, filename='scan_image', sep='_'):\n",
    "    for i in range(scan.shape[0]):\n",
    "        plt.gray()\n",
    "        plt.figure(figsize=(10,10))\n",
    "        plt.imshow(scan[i])\n",
    "        plt.axis('off')\n",
    "        plt.savefig(f'{filename}{sep}{i}.png', bbox_inches='tight', pad_inches=0, transparent=True)"
   ]
  },
  {
   "cell_type": "code",
   "execution_count": 20,
   "metadata": {},
   "outputs": [],
   "source": [
    "@nested_dirs\n",
    "def generate_filenames(dirname = '.'):\n",
    "    files=filter(lambda x: x[-3:] == 'mhd', os.listdir(dirname))\n",
    "    for filename in files:\n",
    "        yield dirname,filename[:-4]"
   ]
  },
  {
   "cell_type": "code",
   "execution_count": 22,
   "metadata": {},
   "outputs": [
    {
     "data": {
      "text/html": [
       "<div>\n",
       "<style scoped>\n",
       "    .dataframe tbody tr th:only-of-type {\n",
       "        vertical-align: middle;\n",
       "    }\n",
       "\n",
       "    .dataframe tbody tr th {\n",
       "        vertical-align: top;\n",
       "    }\n",
       "\n",
       "    .dataframe thead th {\n",
       "        text-align: right;\n",
       "    }\n",
       "</style>\n",
       "<table border=\"1\" class=\"dataframe\">\n",
       "  <thead>\n",
       "    <tr style=\"text-align: right;\">\n",
       "      <th></th>\n",
       "      <th>path</th>\n",
       "      <th>filename</th>\n",
       "    </tr>\n",
       "  </thead>\n",
       "  <tbody>\n",
       "    <tr>\n",
       "      <th>0</th>\n",
       "      <td>./data/test</td>\n",
       "      <td>1.3.6.1.4.1.14519.5.2.1.6279.6001.162207236104...</td>\n",
       "    </tr>\n",
       "    <tr>\n",
       "      <th>1</th>\n",
       "      <td>./data/test</td>\n",
       "      <td>1.3.6.1.4.1.14519.5.2.1.6279.6001.162351539386...</td>\n",
       "    </tr>\n",
       "    <tr>\n",
       "      <th>2</th>\n",
       "      <td>./data/test</td>\n",
       "      <td>1.3.6.1.4.1.14519.5.2.1.6279.6001.162718361851...</td>\n",
       "    </tr>\n",
       "    <tr>\n",
       "      <th>3</th>\n",
       "      <td>./data/test</td>\n",
       "      <td>1.3.6.1.4.1.14519.5.2.1.6279.6001.162845309248...</td>\n",
       "    </tr>\n",
       "    <tr>\n",
       "      <th>4</th>\n",
       "      <td>./data/test</td>\n",
       "      <td>1.3.6.1.4.1.14519.5.2.1.6279.6001.162901839201...</td>\n",
       "    </tr>\n",
       "    <tr>\n",
       "      <th>...</th>\n",
       "      <td>...</td>\n",
       "      <td>...</td>\n",
       "    </tr>\n",
       "    <tr>\n",
       "      <th>883</th>\n",
       "      <td>./data/val</td>\n",
       "      <td>1.3.6.1.4.1.14519.5.2.1.6279.6001.161067514225...</td>\n",
       "    </tr>\n",
       "    <tr>\n",
       "      <th>884</th>\n",
       "      <td>./data/val</td>\n",
       "      <td>1.3.6.1.4.1.14519.5.2.1.6279.6001.161073793312...</td>\n",
       "    </tr>\n",
       "    <tr>\n",
       "      <th>885</th>\n",
       "      <td>./data/val</td>\n",
       "      <td>1.3.6.1.4.1.14519.5.2.1.6279.6001.161633200801...</td>\n",
       "    </tr>\n",
       "    <tr>\n",
       "      <th>886</th>\n",
       "      <td>./data/val</td>\n",
       "      <td>1.3.6.1.4.1.14519.5.2.1.6279.6001.161821150841...</td>\n",
       "    </tr>\n",
       "    <tr>\n",
       "      <th>887</th>\n",
       "      <td>./data/val</td>\n",
       "      <td>1.3.6.1.4.1.14519.5.2.1.6279.6001.161855583909...</td>\n",
       "    </tr>\n",
       "  </tbody>\n",
       "</table>\n",
       "<p>888 rows × 2 columns</p>\n",
       "</div>"
      ],
      "text/plain": [
       "            path                                           filename\n",
       "0    ./data/test  1.3.6.1.4.1.14519.5.2.1.6279.6001.162207236104...\n",
       "1    ./data/test  1.3.6.1.4.1.14519.5.2.1.6279.6001.162351539386...\n",
       "2    ./data/test  1.3.6.1.4.1.14519.5.2.1.6279.6001.162718361851...\n",
       "3    ./data/test  1.3.6.1.4.1.14519.5.2.1.6279.6001.162845309248...\n",
       "4    ./data/test  1.3.6.1.4.1.14519.5.2.1.6279.6001.162901839201...\n",
       "..           ...                                                ...\n",
       "883   ./data/val  1.3.6.1.4.1.14519.5.2.1.6279.6001.161067514225...\n",
       "884   ./data/val  1.3.6.1.4.1.14519.5.2.1.6279.6001.161073793312...\n",
       "885   ./data/val  1.3.6.1.4.1.14519.5.2.1.6279.6001.161633200801...\n",
       "886   ./data/val  1.3.6.1.4.1.14519.5.2.1.6279.6001.161821150841...\n",
       "887   ./data/val  1.3.6.1.4.1.14519.5.2.1.6279.6001.161855583909...\n",
       "\n",
       "[888 rows x 2 columns]"
      ]
     },
     "execution_count": 22,
     "metadata": {},
     "output_type": "execute_result"
    }
   ],
   "source": [
    "files = generate_filenames('./data')\n",
    "files=list(files)\n",
    "df_files = pd.DataFrame(files, columns=['path','filename'])\n",
    "df_files"
   ]
  },
  {
   "cell_type": "code",
   "execution_count": null,
   "metadata": {},
   "outputs": [],
   "source": [
    "test_batch = generate_cube_batch(\n",
    "    locations = df_annotations,\n",
    "    target_size = (25,64,64),\n",
    "    root_dir = 'data/test',\n",
    "    batch_size = 32\n",
    ")\n",
    "train_batch = generate_cube_batch(\n",
    "    locations = df_annotations,\n",
    "    target_size = (25,64,64),\n",
    "    root_dir = 'data/train',\n",
    "    batch_size = 32\n",
    ")\n",
    "val_batch = generate_cube_batch(\n",
    "    locations = df_annotations,\n",
    "    target_size = (25,64,64),\n",
    "    root_dir = 'data/val',\n",
    "    batch_size = 32\n",
    ")\n",
    "\n",
    "def cubes_from_batch(batch_gen):\n",
    "    for arr, batch in batch_gen:\n",
    "        batch = list(batch)\n",
    "        shuffle(batch)\n",
    "        for result in batch:\n",
    "            yield result\n",
    "\n",
    "test_generator = cubes_from_batch(test_batch)\n",
    "train_generator = cubes_from_batch(train_batch)\n",
    "val_generator = cubes_from_batch(val_batch)\n",
    "\n",
    "i = 0\n",
    "while True:\n",
    "    i += 1\n",
    "    \n",
    "    print('Test:',next(test_generator)[1], 'Train:',next(train_generator)[1], 'Val: ',next(val_generator)[1],sep=' ')\n",
    "    "
   ]
  },
  {
   "cell_type": "code",
   "execution_count": null,
   "metadata": {},
   "outputs": [],
   "source": []
  }
 ],
 "metadata": {
  "kernelspec": {
   "display_name": "venv",
   "language": "python",
   "name": "venv"
  },
  "language_info": {
   "codemirror_mode": {
    "name": "ipython",
    "version": 3
   },
   "file_extension": ".py",
   "mimetype": "text/x-python",
   "name": "python",
   "nbconvert_exporter": "python",
   "pygments_lexer": "ipython3",
   "version": "3.7.7"
  }
 },
 "nbformat": 4,
 "nbformat_minor": 4
}
